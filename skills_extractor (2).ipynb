{
 "cells": [
  {
   "cell_type": "code",
   "execution_count": 17,
   "metadata": {},
   "outputs": [],
   "source": [
    "from pyresparser import ResumeParser\n",
    "import os\n",
    "from docx import Document\n",
    "from resume_parser import resumeparse"
   ]
  },
  {
   "cell_type": "code",
   "execution_count": 20,
   "metadata": {},
   "outputs": [],
   "source": [
    "##file format should be in .txt , .docx or .pdf only\n",
    "filed=input()  # /home/indianic/Desktop/sentimate/resume_ranking/AI_ML_CVs/CVPrashantSingh.pdf"
   ]
  },
  {
   "cell_type": "code",
   "execution_count": 23,
   "metadata": {},
   "outputs": [
    {
     "name": "stderr",
     "output_type": "stream",
     "text": [
      "/home/indianic/Desktop/sentimate/resume_ranking/env/lib/python3.8/site-packages/spacy/util.py:275: UserWarning: [W031] Model 'en_training' (0.0.0) requires spaCy v2.1 and is incompatible with the current spaCy version (2.3.9). This may lead to unexpected results or runtime errors. To resolve this, download a newer compatible model or retrain your custom model with the current spaCy version. For more details and available updates, run: python -m spacy validate\n",
      "  warnings.warn(warn_msg)\n"
     ]
    },
    {
     "name": "stdout",
     "output_type": "stream",
     "text": [
      "{'name': 'Shraddha Sukumar', 'email': 'shraddhapisal2000@gmail.com', 'mobile_number': '8956043007', 'skills': ['Word', 'Mysql', 'Sas', 'Programming', 'Mortgage', 'Powerpoint', 'Experiments', 'Statistical analysis', 'Analytical', 'Tableau', 'Machine learning', 'Design', 'Ms excel', 'Data analysis', 'Certification', 'Email', 'Cloud', 'Brand', 'Excel', 'Website', 'Algorithms', 'Python', 'Analysis', 'Reports', 'R', 'Statistics', 'Ai', 'Training', 'Mobile', 'Flask', 'Database', 'Information technology', 'Research', 'Purchasing', 'Technical'], 'college_name': None, 'degree': [\"Bachelor's degree in Statistics –\", 'degree  in Statistics'], 'designation': ['Data Analyst'], 'experience': None, 'company_names': None, 'no_of_pages': 2, 'total_experience': 0}\n"
     ]
    }
   ],
   "source": [
    "try:\n",
    "    doc = Document()\n",
    "    with open(filed, 'r') as file:\n",
    "        doc.add_paragraph(file.read())\n",
    "    doc.save(\"text.docx\")\n",
    "    data = ResumeParser('text.docx').get_extracted_data()\n",
    "    print(data)\n",
    "except:\n",
    "    data = ResumeParser(filed).get_extracted_data()\n",
    "    print(data)"
   ]
  },
  {
   "cell_type": "code",
   "execution_count": 24,
   "metadata": {},
   "outputs": [
    {
     "data": {
      "text/plain": [
       "{'name': 'Shraddha Sukumar',\n",
       " 'email': 'shraddhapisal2000@gmail.com',\n",
       " 'mobile_number': '8956043007',\n",
       " 'skills': ['Word',\n",
       "  'Mysql',\n",
       "  'Sas',\n",
       "  'Programming',\n",
       "  'Mortgage',\n",
       "  'Powerpoint',\n",
       "  'Experiments',\n",
       "  'Statistical analysis',\n",
       "  'Analytical',\n",
       "  'Tableau',\n",
       "  'Machine learning',\n",
       "  'Design',\n",
       "  'Ms excel',\n",
       "  'Data analysis',\n",
       "  'Certification',\n",
       "  'Email',\n",
       "  'Cloud',\n",
       "  'Brand',\n",
       "  'Excel',\n",
       "  'Website',\n",
       "  'Algorithms',\n",
       "  'Python',\n",
       "  'Analysis',\n",
       "  'Reports',\n",
       "  'R',\n",
       "  'Statistics',\n",
       "  'Ai',\n",
       "  'Training',\n",
       "  'Mobile',\n",
       "  'Flask',\n",
       "  'Database',\n",
       "  'Information technology',\n",
       "  'Research',\n",
       "  'Purchasing',\n",
       "  'Technical'],\n",
       " 'college_name': None,\n",
       " 'degree': [\"Bachelor's degree in Statistics –\", 'degree  in Statistics'],\n",
       " 'designation': ['Data Analyst'],\n",
       " 'experience': None,\n",
       " 'company_names': None,\n",
       " 'no_of_pages': 2,\n",
       " 'total_experience': 0}"
      ]
     },
     "execution_count": 24,
     "metadata": {},
     "output_type": "execute_result"
    }
   ],
   "source": [
    "data"
   ]
  },
  {
   "cell_type": "code",
   "execution_count": 13,
   "metadata": {},
   "outputs": [],
   "source": [
    "#K:\\resume_sample\\cv.pdf\n",
    "#K:\\resume_sample\\AmanSharma.pdf"
   ]
  },
  {
   "cell_type": "code",
   "execution_count": 4,
   "metadata": {},
   "outputs": [],
   "source": [
    "import en_core_web_sm\n",
    "nlp = en_core_web_sm.load()"
   ]
  },
  {
   "cell_type": "code",
   "execution_count": 5,
   "metadata": {},
   "outputs": [],
   "source": [
    "import PyPDF2\n",
    "import os"
   ]
  },
  {
   "cell_type": "code",
   "execution_count": 6,
   "metadata": {},
   "outputs": [],
   "source": []
  },
  {
   "cell_type": "code",
   "execution_count": null,
   "metadata": {},
   "outputs": [],
   "source": [
    "data = ResumeParser('/home/indianic/Desktop/sentimate/resume_ranking/AI_ML_CVs/CVPrashantSingh.pdf').get_extracted_data()"
   ]
  },
  {
   "cell_type": "code",
   "execution_count": 14,
   "metadata": {},
   "outputs": [
    {
     "data": {
      "text/plain": [
       "{'email': 'andreyvkurenkov@gmail.com',\n",
       " 'phone': '678-900-4326',\n",
       " 'name': 'Andrey Kurenkov',\n",
       " 'total_exp': 2,\n",
       " 'university': ['carnegie mellon university',\n",
       "  'georgia institute of technology',\n",
       "  'stanford university'],\n",
       " 'designition': ['graduate student',\n",
       "  'student',\n",
       "  'president',\n",
       "  'data analyst',\n",
       "  'software engineer',\n",
       "  'systems manager',\n",
       "  'research assistant',\n",
       "  'research intern'],\n",
       " 'degree': ['M.S. in Computer Science',\n",
       "  'B.S. in Electrical',\n",
       "  'B.S. in Computer Science'],\n",
       " 'skills': [': Python',\n",
       "  ' Java',\n",
       "  ' C',\n",
       "  ' C++',\n",
       "  ' R',\n",
       "  ' MATLAB/Octave',\n",
       "  ' LaTeX',\n",
       "  'Frameworks and Toolkits: Numpy',\n",
       "  ' Scikit-learn',\n",
       "  ' Pandas',\n",
       "  ' ROS',\n",
       "  ' Tensorflow',\n",
       "  ' Docker'],\n",
       " 'Companies worked at': ['Oracle Systems Manager', 'Microelectronic']}"
      ]
     },
     "execution_count": 14,
     "metadata": {},
     "output_type": "execute_result"
    }
   ],
   "source": [
    "\n",
    "data = resumeparse.read_file('/home/indianic/Desktop/sentimate/resume_ranking/CVs/r2.pdf')\n",
    "data"
   ]
  },
  {
   "cell_type": "code",
   "execution_count": 10,
   "metadata": {},
   "outputs": [],
   "source": [
    "r2 = resumeparse.read_file('/home/indianic/Desktop/sentimate/resume_ranking/AI_ML_CVs/CVArshadShaikh.pdf')"
   ]
  },
  {
   "cell_type": "code",
   "execution_count": 11,
   "metadata": {},
   "outputs": [
    {
     "data": {
      "text/plain": [
       "dict_keys(['email', 'phone', 'name', 'total_exp', 'university', 'designition', 'degree', 'skills', 'Companies worked at'])"
      ]
     },
     "execution_count": 11,
     "metadata": {},
     "output_type": "execute_result"
    }
   ],
   "source": [
    "r2.keys()"
   ]
  },
  {
   "cell_type": "code",
   "execution_count": null,
   "metadata": {},
   "outputs": [],
   "source": [
    "import spacy\n",
    "import sys , fitz\n",
    "nlp = spacy.load('/home/indianic/Desktop/sentimate/resume_ranking/ResumePaser/model/output/model-best')"
   ]
  },
  {
   "cell_type": "code",
   "execution_count": 8,
   "metadata": {},
   "outputs": [
    {
     "name": "stdout",
     "output_type": "stream",
     "text": [
      "Data Scientist  >>>>>>>>>>>>  SKILLS\n",
      "ankitkumarkorat@gmail.com  >>>>>>>>>>>>  EMAIL ADDRESS\n",
      "Amnex Infotechnologies Pvt Ltd.  >>>>>>>>>>>>  COMPANIES WORKED AT\n",
      "+91 7046946241 \n",
      " \n",
      "EDUCATION  >>>>>>>>>>>>  WORKED AS\n",
      "CGPA/Marks  >>>>>>>>>>>>  WORKED AS\n",
      "8.47 / 10  >>>>>>>>>>>>  WORKED AS\n",
      "B. TECH (Agriculture Engg.)  >>>>>>>>>>>>  CERTIFICATION\n",
      "7.67 / 10  >>>>>>>>>>>>  WORKED AS\n",
      "HSC  >>>>>>>>>>>>  CERTIFICATION\n",
      "GSHEB  >>>>>>>>>>>>  SKILLS\n",
      "75.00%  >>>>>>>>>>>>  SKILLS\n",
      "SSC  >>>>>>>>>>>>  CERTIFICATION\n",
      "GSEB  >>>>>>>>>>>>  COMPANIES WORKED AT\n",
      "Data Scientist | Amnex Infotechnologies Pvt Ltd.  >>>>>>>>>>>>  CERTIFICATION\n",
      "Automatic Number Plate Recognition (ANPR) model\n",
      "• Created dataset for ANPR using Gandhinagar Road surveillance camera and annotating labels for number plate.  >>>>>>>>>>>>  COMPANIES WORKED AT\n",
      "Geospatial Data Scientist  >>>>>>>>>>>>  COMPANIES WORKED AT\n",
      "Detection Crop Water Stress in Wheat Crop using UAV based Multispectral and Thermal Imageries | M.Tech. Thesis  >>>>>>>>>>>>  COMPANIES WORKED AT\n",
      "Secured All India Rank 54 in the GATE (AG) 2019.  >>>>>>>>>>>>  COMPANIES WORKED AT\n",
      "EXPERIANCES  >>>>>>>>>>>>  COMPANIES WORKED AT\n"
     ]
    },
    {
     "data": {
      "text/plain": [
       "'INTERNSHIP \\nPROJECTS \\nSKILL SUMMARY \\nKORAT ANKITKUMAR RATILAL \\nData Scientist\\nankitkumarkorat@gmail.com \\nAmnex Infotechnologies Pvt Ltd.\\n+91 7046946241 \\n \\nEDUCATION \\nDegree/Exam \\nInstitute \\nCGPA/Marks \\nYear \\nM.TECH (Land and Water Resources Engg.) \\nIIT Kharagpur \\n8.47 / 10 \\n2021 \\nB. TECH (Agriculture Engg.) \\nJunagadh Agricultural University \\n7.67 / 10 \\n2019 \\nHSC \\nGSHEB \\n75.00% \\n2015 \\nSSC \\nGSEB \\n88.00% \\n2013 \\n \\n \\nData Scientist | Amnex Infotechnologies Pvt Ltd.\\n \\n \\n \\n \\n \\nOct 2021 to Present \\nCloud removal from sentinel 2 satellite imageries \\n• Created algorithms in GEE for finding date of sentinel 1 and sentinel 2 were passed on same geographical area on same date. \\n• Created algorithms in python using GDAL library for pre-processing of downloaded satellite imageries. \\n• Implementing different image to image translation architecture. \\nAutomatic Number Plate Recognition (ANPR) model\\n• Created dataset for ANPR using Gandhinagar Road surveillance camera and annotating labels for number plate. \\n• Implemented Yolov4 and yolov5 architecture for detection number plate from live streaming video. Yolov5 gives better result for \\ndetection as compared to yolov4. \\n• Implemented different OCR architecture for number plate recognition and found that PaddleOCR gives better result.\\n• Dockerised detection and recognition model and testing through API. \\nScraping AnyROR dataset for Farm information \\n• Implemented DenseNet architecture for recognition captcha code which required for login different farm data.\\n• Scraped AnyROR data using request library and save in database. \\nGeospatial Data Scientist | The Art of Living Organization \\n \\n \\n \\n \\nFeb 2021 to Sep 2021 \\n• Select location for recharge structure base on certain Criteria (example: Geomorphology, lithology, soil depth, Slope, LULC etc.) using \\nGEE and ArcGIS for satellite images processing and classification. Create final map on GEE. \\n• Automated manual process using python GDAL library of satellite image processing. \\nData Scientist | Sabudh Foundation \\n \\n \\n \\n \\n \\n \\n \\nJuly 2021 to Dec 2021 \\n• Learnt statistics and mathematics for data science, Basic to advance python and data structure algorithm, machine learning and deep learning, \\ncomputer vision architecture (object detection, object segmentation etc.) and basic natural language processing. \\n• Project: Object detection and satellite imagery processing using deep learning \\n1. Worked on super resolution (Enhance resolution) of satellite imageries for increase spatial resolution 10m to 5m. \\n2. Worked on classification problem of discriminate forest and non-forest of satellite images. \\n3. Worked on object detection architectures of yolo for detecting forest in satellite images.\\nDetection Crop Water Stress in Wheat Crop using UAV based Multispectral and Thermal Imageries | M.Tech. Thesis \\n• \\nNGRDI is found to be the best vegetation index for detection of water stress in wheat followed by NDVI.\\n• \\nWDI maps are useful for detection of water stress in small field scale, and it’s also applicable for partial vegetation cover of wheat crop.\\n• \\nThe generalized model developed between soil moisture depletion levels and WDI values for irrigation scheduling. \\n• \\nThe generalized model which has RMSE, MAE, NSE and R2 are found to be 0.06, 0.05, 0.92 and 0.91, respectively. \\n \\nSecured All India Rank 54 in the GATE (AG) 2019. \\n• Programming Languages: Python (Pandas, NumPy, SciPy, Matplotlib, Seaborn, Plotly, SciKit Learn), SQL. \\n• Tools: Docker, AWS Sagemaker , Google Colab, LaTex. \\n• Environments: Linux. \\n• Soft Skills:ManagementandCommunication skills,EnthusiasticandOptimistic, ResponsibilityandPunctuality,Public Speaking. \\n• Software: MS PowerPoint, MS Excel, MS Word. \\n• Languages known: English, Hindi, Gujarati. \\n \\nAWARDS AND ACHIEVEMENTS \\nEXPERIANCES \\n'"
      ]
     },
     "execution_count": 8,
     "metadata": {},
     "output_type": "execute_result"
    }
   ],
   "source": [
    "import spacy\n",
    "import sys , fitz\n",
    "nlp = spacy.load('/home/indianic/Desktop/sentimate/resume_ranking/ResumePaser/model/output/model-best')\n",
    "doc = fitz.open('/home/indianic/Desktop/sentimate/resume_ranking/AI_ML_CVs/AnkitKorat_2Y.pdf')\n",
    "text = ''\n",
    "for page in doc:\n",
    "    text += str(page.get_text())\n",
    "text  = text.replace(\"  \", \"\")\n",
    "doc = nlp(text)\n",
    "for ent in doc.ents:\n",
    "    print(ent.text,\" >>>>>>>>>>>> \",ent.label_)\n",
    "text"
   ]
  },
  {
   "cell_type": "code",
   "execution_count": null,
   "metadata": {},
   "outputs": [],
   "source": [
    "from pyresparser import ResumeParser\n",
    "data = ResumeParser('/home/indianic/Desktop/sentimate/resume_ranking/AI_ML_CVs/CVArshadShaikh.pdf').get_extracted_data()"
   ]
  },
  {
   "cell_type": "code",
   "execution_count": 15,
   "metadata": {},
   "outputs": [
    {
     "name": "stderr",
     "output_type": "stream",
     "text": [
      "/home/indianic/Desktop/sentimate/resume_ranking/env/lib/python3.8/site-packages/spacy/util.py:275: UserWarning: [W031] Model 'en_training' (0.0.0) requires spaCy v2.1 and is incompatible with the current spaCy version (2.3.9). This may lead to unexpected results or runtime errors. To resolve this, download a newer compatible model or retrain your custom model with the current spaCy version. For more details and available updates, run: python -m spacy validate\n",
      "  warnings.warn(warn_msg)\n"
     ]
    }
   ],
   "source": [
    "r2 = ResumeParser('/home/indianic/Desktop/sentimate/resume_ranking/AI_ML_CVs/Naukri_SHEIKHMOHAMMADSHAKIBGULAMNABI[0y_0m] (1).pdf').get_extracted_data()\n",
    "data = resumeparse.read_file('/home/indianic/Desktop/sentimate/resume_ranking/AI_ML_CVs/Naukri_SHEIKHMOHAMMADSHAKIBGULAMNABI[0y_0m] (1).pdf')"
   ]
  },
  {
   "cell_type": "code",
   "execution_count": 10,
   "metadata": {},
   "outputs": [
    {
     "data": {
      "text/plain": [
       "{'name': 'https://www.linkedin.com/in/s hakib',\n",
       " 'email': 'shakibsheikh6565@gmail.com',\n",
       " 'mobile_number': '9328547015',\n",
       " 'skills': ['Java',\n",
       "  'Engineering',\n",
       "  'Inventory',\n",
       "  'Css',\n",
       "  'Sql',\n",
       "  'Website',\n",
       "  'Ordering',\n",
       "  'Python',\n",
       "  'Technical',\n",
       "  'Design',\n",
       "  'Django',\n",
       "  'System',\n",
       "  'English',\n",
       "  'Vendors',\n",
       "  'Html'],\n",
       " 'college_name': None,\n",
       " 'degree': ['BACHELOR OF ENGINEERING'],\n",
       " 'designation': None,\n",
       " 'experience': ['SUMMER INTERN',\n",
       "  'BrainyBeam Technologies PVT LTD',\n",
       "  'JUN 2022 - JULY 2022',\n",
       "  'AHMEDABAD',\n",
       "  'Python, Django Framework, HTML, CSS, SQL',\n",
       "  'This web application will be design for the vendors who',\n",
       "  'need to integrate the inventory as well as product and',\n",
       "  'sells platform.'],\n",
       " 'company_names': ['GOVERNMENT ENGINEERING'],\n",
       " 'no_of_pages': 1,\n",
       " 'total_experience': 0.08}"
      ]
     },
     "execution_count": 10,
     "metadata": {},
     "output_type": "execute_result"
    }
   ],
   "source": [
    "r2"
   ]
  },
  {
   "cell_type": "code",
   "execution_count": 16,
   "metadata": {},
   "outputs": [
    {
     "data": {
      "text/plain": [
       "{'email': 'shakibsheikh6565@gmail.com',\n",
       " 'phone': '9328547015',\n",
       " 'name': '',\n",
       " 'total_exp': 0,\n",
       " 'university': [],\n",
       " 'designition': [],\n",
       " 'degree': [],\n",
       " 'skills': ['Python(Programming Language)',\n",
       "  'Django Framework',\n",
       "  'HTML',\n",
       "  'CSS',\n",
       "  'Java',\n",
       "  'SQL',\n",
       "  'HOBBIES',\n",
       "  'Play games',\n",
       "  'Listen a music',\n",
       "  'Reading',\n",
       "  'LANGUAGE',\n",
       "  'English',\n",
       "  'Hindi',\n",
       "  'Gujarati',\n",
       "  'https://www.linkedin.com/in/s',\n",
       "  'hakib-sheikh-77489b226/',\n",
       "  'https://github.com/shakibsh',\n",
       "  'eik h1',\n",
       "  'http://www.linkedin.com/in/s'],\n",
       " 'Companies worked at': ['SUMMER INTERN BrainyBeam Technologies PVT LTD JUN']}"
      ]
     },
     "execution_count": 16,
     "metadata": {},
     "output_type": "execute_result"
    }
   ],
   "source": [
    "data"
   ]
  },
  {
   "cell_type": "code",
   "execution_count": 25,
   "metadata": {},
   "outputs": [],
   "source": [
    "import re\n",
    "import spacy\n",
    "\n",
    "nlp = spacy.load(\"en_core_web_sm\")"
   ]
  },
  {
   "cell_type": "code",
   "execution_count": null,
   "metadata": {},
   "outputs": [],
   "source": [
    "import spacy\n",
    "import sys , fitz\n",
    "# nlp = spacy.load('/home/indianic/Desktop/sentimate/resume_ranking/ResumePaser/model/output/model-best')\n",
    "doc = fitz.open('/home/indianic/Desktop/sentimate/resume_ranking/AI_ML_CVs/Naukri_SHEIKHMOHAMMADSHAKIBGULAMNABI[0y_0m] (1).pdf')\n",
    "text = ''\n",
    "for page in doc:\n",
    "    text += str(page.get_text())\n",
    "    "
   ]
  },
  {
   "cell_type": "code",
   "execution_count": 9,
   "metadata": {},
   "outputs": [
    {
     "name": "stdout",
     "output_type": "stream",
     "text": [
      "Years of experience:\n",
      "experience: 5 years\n",
      "General: 0.6 years\n",
      "as a project manager: 0.2 years\n",
      "Total: 5.8 years\n"
     ]
    }
   ],
   "source": [
    "import re\n",
    "import spacy\n",
    "from dateutil import parser\n",
    "\n",
    "nlp = spacy.load(\"en_core_web_sm\")\n",
    "\n",
    "def extract_experience_advanced(resume_text):\n",
    "    doc = nlp(resume_text)\n",
    "    \n",
    "    patterns = [\n",
    "        r\"(\\d+)\\s*(?:year[s]?)?\\s*(?:of)?\\s*(?:experience|exp)(?:\\s*(?:in)?\\s*([a-z\\s]+))?\",  # e.g., 5 years of experience in software development\n",
    "        r\"(\\d+)\\s*(?:years?)-(?:\\d+)\\s*(?:of)?\\s*(?:experience|exp)(?:\\s*(?:in)?\\s*([a-z\\s]+))?\",  # e.g., 3-5 years of experience in project management\n",
    "        r\"(\\d+)\\s*\\+\\s*(?:year[s]?)?\\s*(?:of)?\\s*(?:experience|exp)(?:\\s*(?:in)?\\s*([a-z\\s]+))?\",  # e.g., 8+ years of experience in data analysis\n",
    "        r\"(\\w+)\\s*(?:\\d{4})\\s*(?:to|–|-)\\s*(\\w+)\\s*(?:\\d{4})\\s*(?:in)?\\s*([a-z\\s]+)?\",  # e.g., Feb 2021 to Sep 2021, April 2022 – July 2022\n",
    "        r\"(?:[a-z\\s]*\\b|\\b)since\\b(?:\\s*\\d{4})?(?:\\s*(?:in)?\\s*([a-z\\s]+))?\",  # e.g., since 2017, since January 2018 in software engineering\n",
    "        r\"(\\d{4})\\s*-\\s*(?:[a-z\\s]*\\b|\\b)(?:present|current)(?:\\s*(?:in)?\\s*([a-z\\s]+))?\",  # e.g., 2018 - present, 2020 - current in data science\n",
    "        r\"(\\d{4})\\s*(?:to|–|-)\\s*(\\d{4})\\s*(?:in)?\\s*([a-z\\s]+)?\",  # e.g., 2017 to 2019 in project management\n",
    "\n",
    "    ]\n",
    "    \n",
    "    total_experience_years = 0\n",
    "    experience_dict = {}\n",
    "    for pattern in patterns:\n",
    "        matches = re.findall(pattern, resume_text, re.IGNORECASE)\n",
    "        \n",
    "        for match in matches:\n",
    "            if len(match) == 2:  # Handles the first and third patterns\n",
    "                years = int(match[0])\n",
    "                total_experience_years += years\n",
    "                domain = match[1].strip() if match[1] else \"General\"\n",
    "                \n",
    "                for sent in doc.sents:\n",
    "                    if match[0] in sent.text:\n",
    "                        domain = extract_domain(sent, domain)\n",
    "                \n",
    "                if domain in experience_dict:\n",
    "                    experience_dict[domain] += years\n",
    "                else:\n",
    "                    experience_dict[domain] = years\n",
    "            elif len(match) == 3:  # Handles the second, fourth, and fifth patterns\n",
    "                if match[1]:  # Handles date ranges\n",
    "                    start_date = parser.parse(match[0])\n",
    "                    end_date = parser.parse(match[1])\n",
    "                    \n",
    "                    experience_days = (end_date - start_date).days\n",
    "                    years = round(experience_days / 365, 1)\n",
    "                else:  # Handles present and since\n",
    "                    start_date = parser.parse(match[0])\n",
    "                    end_date = parser.parse(\"now\")\n",
    "                    \n",
    "                    experience_days = (end_date - start_date).days\n",
    "                    years = round(experience_days / 365, 1)\n",
    "                \n",
    "                total_experience_years += years\n",
    "                domain = match[2].strip() if match[2] else \"General\"\n",
    "                \n",
    "                if domain in experience_dict:\n",
    "                    experience_dict[domain] += years\n",
    "                else:\n",
    "                    experience_dict[domain] = years\n",
    "    \n",
    "    experience_dict[\"Total\"] = total_experience_years\n",
    "    return experience_dict\n",
    "\n",
    "def extract_domain(sentence, default_domain):\n",
    "    domain_keywords = [\"in\", \"with\", \"of\", \"at\", \"on\"]\n",
    "\n",
    "    for token in sentence:\n",
    "        if token.text.lower() in domain_keywords:\n",
    "            domain = token.nbor().text.strip()\n",
    "            return domain\n",
    "\n",
    "    return default_domain\n",
    "\n",
    "# Example usage\n",
    "resume_text = \"I have 5 years of experience in software development from Feb 2017 to Sep 2021. Additionally, I worked from April 2022 to July 2022 as a project manager. In June 2022, I also had a brief experience in data analysis. Since 2019, I have been working in data science. Currently, I am working as a software engineer from 2018 to present.\"\n",
    "experience = extract_experience_advanced(resume_text)\n",
    "print(\"Years of experience:\")\n",
    "for domain, years in experience.items():\n",
    "    print(f\"{domain}: {years} years\")\n"
   ]
  },
  {
   "cell_type": "code",
   "execution_count": 11,
   "metadata": {},
   "outputs": [
    {
     "data": {
      "text/plain": [
       "5.8"
      ]
     },
     "execution_count": 11,
     "metadata": {},
     "output_type": "execute_result"
    }
   ],
   "source": [
    "experience['Total']"
   ]
  },
  {
   "cell_type": "code",
   "execution_count": null,
   "metadata": {},
   "outputs": [],
   "source": []
  }
 ],
 "metadata": {
  "kernelspec": {
   "display_name": "Python 3",
   "language": "python",
   "name": "python3"
  },
  "language_info": {
   "codemirror_mode": {
    "name": "ipython",
    "version": 3
   },
   "file_extension": ".py",
   "mimetype": "text/x-python",
   "name": "python",
   "nbconvert_exporter": "python",
   "pygments_lexer": "ipython3",
   "version": "3.8.10"
  }
 },
 "nbformat": 4,
 "nbformat_minor": 4
}
